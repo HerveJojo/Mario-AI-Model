{
 "cells": [
  {
   "cell_type": "markdown",
   "metadata": {
    "collapsed": true,
    "pycharm": {
     "name": "#%% md\n"
    }
   },
   "source": [
    "# 1. Setup Mario"
   ]
  },
  {
   "cell_type": "code",
   "execution_count": 5,
   "metadata": {
    "pycharm": {
     "name": "#%%\n"
    }
   },
   "outputs": [
    {
     "name": "stdout",
     "output_type": "stream",
     "text": [
      "Collecting gym_super_mario_bros==7.3.0\r\n",
      "  Downloading gym_super_mario_bros-7.3.0-py2.py3-none-any.whl (198 kB)\r\n",
      "\u001b[K     |████████████████████████████████| 198 kB 235 kB/s eta 0:00:01\r\n",
      "\u001b[?25hCollecting nes_py\r\n",
      "  Using cached nes_py-8.2.1.tar.gz (77 kB)\r\n",
      "Collecting gym>=0.17.2\r\n",
      "  Using cached gym-0.26.2.tar.gz (721 kB)\r\n",
      "  Installing build dependencies ... \u001b[?25l-\b \b\\\b \b|\b \b/\b \bdone\r\n",
      "\u001b[?25h  Getting requirements to build wheel ... \u001b[?25l-\b \bdone\r\n",
      "\u001b[?25h    Preparing wheel metadata ... \u001b[?25l-\b \bdone\r\n",
      "\u001b[?25hRequirement already satisfied: numpy>=1.18.5 in /opt/anaconda3/lib/python3.8/site-packages (from nes_py) (1.22.4)\r\n",
      "Collecting pyglet<=1.5.21,>=1.4.0\r\n",
      "  Using cached pyglet-1.5.21-py3-none-any.whl (1.1 MB)\r\n",
      "Requirement already satisfied: tqdm>=4.48.2 in /opt/anaconda3/lib/python3.8/site-packages (from nes_py) (4.65.0)\r\n",
      "Collecting gym-notices>=0.0.4\r\n",
      "  Using cached gym_notices-0.0.8-py3-none-any.whl (3.0 kB)\r\n",
      "Collecting importlib-metadata>=4.8.0\r\n",
      "  Using cached importlib_metadata-6.6.0-py3-none-any.whl (22 kB)\r\n",
      "Requirement already satisfied: cloudpickle>=1.2.0 in /opt/anaconda3/lib/python3.8/site-packages (from gym>=0.17.2->nes_py) (1.6.0)\r\n",
      "Requirement already satisfied: zipp>=0.5 in /opt/anaconda3/lib/python3.8/site-packages (from importlib-metadata>=4.8.0->gym>=0.17.2->nes_py) (3.4.1)\r\n",
      "Building wheels for collected packages: nes-py, gym\r\n",
      "  Building wheel for nes-py (setup.py) ... \u001b[?25l-\b \b\\\b \b|\b \b/\b \b-\b \b\\\b \b|\b \b/\b \b-\b \b\\\b \b|\b \b/\b \b-\b \b\\\b \b|\b \b/\b \b-\b \b\\\b \bdone\r\n",
      "\u001b[?25h  Created wheel for nes-py: filename=nes_py-8.2.1-cp38-cp38-macosx_10_9_x86_64.whl size=58293 sha256=ba8f4a635a0232c2627db8209f44418e160db384901e32bd47b9b13285656031\r\n",
      "  Stored in directory: /Users/raphaelvasseur/Library/Caches/pip/wheels/17/e5/5c/8dfae61b44dbf56c458483aa09accef55a650e0527f6cbd872\r\n",
      "  Building wheel for gym (PEP 517) ... \u001b[?25l-\b \b\\\b \b|\b \b/\b \bdone\r\n",
      "\u001b[?25h  Created wheel for gym: filename=gym-0.26.2-py3-none-any.whl size=827631 sha256=e7baedbda0e6e46586fb708baae2433ee5b9279d35e2eec1b7bce8320e2408a1\r\n",
      "  Stored in directory: /Users/raphaelvasseur/Library/Caches/pip/wheels/17/79/65/7afedc162d858b02708a3b8f7a6dd5b1000dcd5b0f894f7cc1\r\n",
      "Successfully built nes-py gym\r\n",
      "Installing collected packages: importlib-metadata, gym-notices, pyglet, gym, nes-py, gym-super-mario-bros\r\n",
      "  Attempting uninstall: importlib-metadata\r\n",
      "    Found existing installation: importlib-metadata 3.10.0\r\n",
      "    Uninstalling importlib-metadata-3.10.0:\r\n",
      "      Successfully uninstalled importlib-metadata-3.10.0\r\n",
      "Successfully installed gym-0.26.2 gym-notices-0.0.8 gym-super-mario-bros-7.3.0 importlib-metadata-6.6.0 nes-py-8.2.1 pyglet-1.5.21\r\n"
     ]
    }
   ],
   "source": [
    "!pip install gym_super_mario_bros==7.3.0 nes_py"
   ]
  },
  {
   "cell_type": "code",
   "execution_count": 1,
   "metadata": {
    "pycharm": {
     "name": "#%%\n"
    }
   },
   "outputs": [],
   "source": [
    "# Import the game\n",
    "import gym_super_mario_bros\n",
    "# Import the oJoypad wrapper\n",
    "from nes_py.wrappers import JoypadSpace\n",
    "# Import the SIMPLIFIED controls\n",
    "from gym_super_mario_bros.actions import SIMPLE_MOVEMENT"
   ]
  },
  {
   "cell_type": "code",
   "execution_count": 2,
   "metadata": {},
   "outputs": [
    {
     "data": {
      "text/plain": [
       "[['NOOP'],\n",
       " ['right'],\n",
       " ['right', 'A'],\n",
       " ['right', 'B'],\n",
       " ['right', 'A', 'B'],\n",
       " ['A'],\n",
       " ['left']]"
      ]
     },
     "execution_count": 2,
     "metadata": {},
     "output_type": "execute_result"
    }
   ],
   "source": [
    "# Important simplify game environnement\n",
    "\n",
    "# Setup game\n",
    "env = gym_super_mario_bros"
   ]
  }
 ],
 "metadata": {
  "kernelspec": {
   "display_name": "Python 3",
   "language": "python",
   "name": "python3"
  },
  "language_info": {
   "codemirror_mode": {
    "name": "ipython",
    "version": 3
   },
   "file_extension": ".py",
   "mimetype": "text/x-python",
   "name": "python",
   "nbconvert_exporter": "python",
   "pygments_lexer": "ipython3",
   "version": "3.8.2"
  }
 },
 "nbformat": 4,
 "nbformat_minor": 1
}
